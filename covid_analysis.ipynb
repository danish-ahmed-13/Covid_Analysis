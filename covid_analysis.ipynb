{
 "cells": [
  {
   "cell_type": "code",
   "execution_count": 7,
   "id": "e6dc9887-841b-4960-9336-4e7cd7b6a1a9",
   "metadata": {},
   "outputs": [],
   "source": [
    "import pandas as pd\n",
    "import matplotlib.pyplot as plt"
   ]
  },
  {
   "cell_type": "markdown",
   "id": "7ecf6104-daf5-4681-9458-d337b7c8f9db",
   "metadata": {},
   "source": [
    "# 1 DATA LOADING AND CLEANING"
   ]
  },
  {
   "cell_type": "code",
   "execution_count": 8,
   "id": "40b1bc50-c4fa-49a4-a7ac-0d544735c266",
   "metadata": {},
   "outputs": [],
   "source": [
    "df = pd.read_csv(r\"C:\\Users\\USER\\Downloads\\covid_large_dataset.csv\")"
   ]
  },
  {
   "cell_type": "code",
   "execution_count": 9,
   "id": "4b98fe67-42e4-4424-8b0f-5c9b83911620",
   "metadata": {},
   "outputs": [
    {
     "data": {
      "text/html": [
       "<div>\n",
       "<style scoped>\n",
       "    .dataframe tbody tr th:only-of-type {\n",
       "        vertical-align: middle;\n",
       "    }\n",
       "\n",
       "    .dataframe tbody tr th {\n",
       "        vertical-align: top;\n",
       "    }\n",
       "\n",
       "    .dataframe thead th {\n",
       "        text-align: right;\n",
       "    }\n",
       "</style>\n",
       "<table border=\"1\" class=\"dataframe\">\n",
       "  <thead>\n",
       "    <tr style=\"text-align: right;\">\n",
       "      <th></th>\n",
       "      <th>Date</th>\n",
       "      <th>Country</th>\n",
       "      <th>Confirmed_Cases</th>\n",
       "      <th>Deaths</th>\n",
       "      <th>Recovered</th>\n",
       "      <th>Active_Cases</th>\n",
       "      <th>Tests_Conducted</th>\n",
       "    </tr>\n",
       "  </thead>\n",
       "  <tbody>\n",
       "    <tr>\n",
       "      <th>0</th>\n",
       "      <td>2020-01-01</td>\n",
       "      <td>USA</td>\n",
       "      <td>5261</td>\n",
       "      <td>82</td>\n",
       "      <td>4849</td>\n",
       "      <td>328</td>\n",
       "      <td>8132</td>\n",
       "    </tr>\n",
       "    <tr>\n",
       "      <th>1</th>\n",
       "      <td>2020-01-02</td>\n",
       "      <td>USA</td>\n",
       "      <td>742</td>\n",
       "      <td>29</td>\n",
       "      <td>547</td>\n",
       "      <td>165</td>\n",
       "      <td>1451</td>\n",
       "    </tr>\n",
       "    <tr>\n",
       "      <th>2</th>\n",
       "      <td>2020-01-03</td>\n",
       "      <td>USA</td>\n",
       "      <td>1519</td>\n",
       "      <td>51</td>\n",
       "      <td>1277</td>\n",
       "      <td>190</td>\n",
       "      <td>2094</td>\n",
       "    </tr>\n",
       "    <tr>\n",
       "      <th>3</th>\n",
       "      <td>2020-01-04</td>\n",
       "      <td>USA</td>\n",
       "      <td>321</td>\n",
       "      <td>15</td>\n",
       "      <td>225</td>\n",
       "      <td>79</td>\n",
       "      <td>444</td>\n",
       "    </tr>\n",
       "    <tr>\n",
       "      <th>4</th>\n",
       "      <td>2020-01-05</td>\n",
       "      <td>USA</td>\n",
       "      <td>401</td>\n",
       "      <td>12</td>\n",
       "      <td>322</td>\n",
       "      <td>67</td>\n",
       "      <td>464</td>\n",
       "    </tr>\n",
       "  </tbody>\n",
       "</table>\n",
       "</div>"
      ],
      "text/plain": [
       "         Date Country  Confirmed_Cases  Deaths  Recovered  Active_Cases  \\\n",
       "0  2020-01-01     USA             5261      82       4849           328   \n",
       "1  2020-01-02     USA              742      29        547           165   \n",
       "2  2020-01-03     USA             1519      51       1277           190   \n",
       "3  2020-01-04     USA              321      15        225            79   \n",
       "4  2020-01-05     USA              401      12        322            67   \n",
       "\n",
       "   Tests_Conducted  \n",
       "0             8132  \n",
       "1             1451  \n",
       "2             2094  \n",
       "3              444  \n",
       "4              464  "
      ]
     },
     "execution_count": 9,
     "metadata": {},
     "output_type": "execute_result"
    }
   ],
   "source": [
    "df.head()"
   ]
  },
  {
   "cell_type": "markdown",
   "id": "2fcafa58-880e-4277-9447-663a95217948",
   "metadata": {},
   "source": [
    "# 2 CHECKING DATATYPES"
   ]
  },
  {
   "cell_type": "code",
   "execution_count": 10,
   "id": "699d1984-26ba-474a-a14d-1978e82c6925",
   "metadata": {},
   "outputs": [
    {
     "data": {
      "text/plain": [
       "Date               object\n",
       "Country            object\n",
       "Confirmed_Cases     int64\n",
       "Deaths              int64\n",
       "Recovered           int64\n",
       "Active_Cases        int64\n",
       "Tests_Conducted     int64\n",
       "dtype: object"
      ]
     },
     "execution_count": 10,
     "metadata": {},
     "output_type": "execute_result"
    }
   ],
   "source": [
    "df.dtypes"
   ]
  },
  {
   "cell_type": "markdown",
   "id": "618e5c0d-0b47-477f-abb7-d6bf32a4a11c",
   "metadata": {},
   "source": [
    "# 3 CONVERTING DATE OBJECT TO DATETIME"
   ]
  },
  {
   "cell_type": "code",
   "execution_count": 11,
   "id": "ad99ad87-380b-4942-9aba-3534a1a592a2",
   "metadata": {},
   "outputs": [],
   "source": [
    "df['Date'] = pd.to_datetime (df['Date'])"
   ]
  },
  {
   "cell_type": "code",
   "execution_count": 12,
   "id": "57e3d95c-ad66-4ad0-b28b-251c65825a7a",
   "metadata": {},
   "outputs": [
    {
     "data": {
      "text/plain": [
       "Date               datetime64[ns]\n",
       "Country                    object\n",
       "Confirmed_Cases             int64\n",
       "Deaths                      int64\n",
       "Recovered                   int64\n",
       "Active_Cases                int64\n",
       "Tests_Conducted             int64\n",
       "dtype: object"
      ]
     },
     "execution_count": 12,
     "metadata": {},
     "output_type": "execute_result"
    }
   ],
   "source": [
    "df.dtypes"
   ]
  },
  {
   "cell_type": "markdown",
   "id": "cb9e0422-b3b4-4416-9e49-98cc45182b2c",
   "metadata": {},
   "source": [
    "# 4 CHECKING NULL VALUES"
   ]
  },
  {
   "cell_type": "code",
   "execution_count": 13,
   "id": "8897ff70-0a8c-4b7a-9f5e-dbe66355f992",
   "metadata": {},
   "outputs": [
    {
     "data": {
      "text/plain": [
       "Date               0\n",
       "Country            0\n",
       "Confirmed_Cases    0\n",
       "Deaths             0\n",
       "Recovered          0\n",
       "Active_Cases       0\n",
       "Tests_Conducted    0\n",
       "dtype: int64"
      ]
     },
     "execution_count": 13,
     "metadata": {},
     "output_type": "execute_result"
    }
   ],
   "source": [
    "df.isnull().sum()"
   ]
  },
  {
   "cell_type": "markdown",
   "id": "ff6936d8-2019-494a-8e21-1c435496186c",
   "metadata": {},
   "source": [
    "# 5 CHECKING DUPLICATE VALUES"
   ]
  },
  {
   "cell_type": "code",
   "execution_count": 14,
   "id": "6f40c9ad-8098-4400-a003-810581982d9e",
   "metadata": {},
   "outputs": [
    {
     "data": {
      "text/plain": [
       "0"
      ]
     },
     "execution_count": 14,
     "metadata": {},
     "output_type": "execute_result"
    }
   ],
   "source": [
    "df.duplicated().sum()"
   ]
  },
  {
   "cell_type": "markdown",
   "id": "bef75fc3-255a-4552-8bbf-ab1817696c58",
   "metadata": {},
   "source": [
    "# 6 DATA ANALYSIS"
   ]
  },
  {
   "cell_type": "code",
   "execution_count": 15,
   "id": "f183d388-0f8d-438f-bb59-1a80e68b6be4",
   "metadata": {},
   "outputs": [],
   "source": [
    "df['Daily_Confirmed'] = df.groupby('Country')['Confirmed_Cases'].diff().fillna(0)\n",
    "df['Daily_Deaths'] = df.groupby('Country')['Deaths'].diff().fillna(0)\n",
    "df['Daily_Recovered'] = df.groupby('Country')['Recovered'].diff().fillna(0)"
   ]
  },
  {
   "cell_type": "code",
   "execution_count": 16,
   "id": "3747623c-305c-492a-969d-1b4e97ca7da0",
   "metadata": {},
   "outputs": [
    {
     "data": {
      "text/html": [
       "<div>\n",
       "<style scoped>\n",
       "    .dataframe tbody tr th:only-of-type {\n",
       "        vertical-align: middle;\n",
       "    }\n",
       "\n",
       "    .dataframe tbody tr th {\n",
       "        vertical-align: top;\n",
       "    }\n",
       "\n",
       "    .dataframe thead th {\n",
       "        text-align: right;\n",
       "    }\n",
       "</style>\n",
       "<table border=\"1\" class=\"dataframe\">\n",
       "  <thead>\n",
       "    <tr style=\"text-align: right;\">\n",
       "      <th></th>\n",
       "      <th>Date</th>\n",
       "      <th>Country</th>\n",
       "      <th>Confirmed_Cases</th>\n",
       "      <th>Deaths</th>\n",
       "      <th>Recovered</th>\n",
       "      <th>Active_Cases</th>\n",
       "      <th>Tests_Conducted</th>\n",
       "      <th>Daily_Confirmed</th>\n",
       "      <th>Daily_Deaths</th>\n",
       "      <th>Daily_Recovered</th>\n",
       "    </tr>\n",
       "  </thead>\n",
       "  <tbody>\n",
       "    <tr>\n",
       "      <th>0</th>\n",
       "      <td>2020-01-01</td>\n",
       "      <td>USA</td>\n",
       "      <td>5261</td>\n",
       "      <td>82</td>\n",
       "      <td>4849</td>\n",
       "      <td>328</td>\n",
       "      <td>8132</td>\n",
       "      <td>0.0</td>\n",
       "      <td>0.0</td>\n",
       "      <td>0.0</td>\n",
       "    </tr>\n",
       "    <tr>\n",
       "      <th>1</th>\n",
       "      <td>2020-01-02</td>\n",
       "      <td>USA</td>\n",
       "      <td>742</td>\n",
       "      <td>29</td>\n",
       "      <td>547</td>\n",
       "      <td>165</td>\n",
       "      <td>1451</td>\n",
       "      <td>-4519.0</td>\n",
       "      <td>-53.0</td>\n",
       "      <td>-4302.0</td>\n",
       "    </tr>\n",
       "    <tr>\n",
       "      <th>2</th>\n",
       "      <td>2020-01-03</td>\n",
       "      <td>USA</td>\n",
       "      <td>1519</td>\n",
       "      <td>51</td>\n",
       "      <td>1277</td>\n",
       "      <td>190</td>\n",
       "      <td>2094</td>\n",
       "      <td>777.0</td>\n",
       "      <td>22.0</td>\n",
       "      <td>730.0</td>\n",
       "    </tr>\n",
       "    <tr>\n",
       "      <th>3</th>\n",
       "      <td>2020-01-04</td>\n",
       "      <td>USA</td>\n",
       "      <td>321</td>\n",
       "      <td>15</td>\n",
       "      <td>225</td>\n",
       "      <td>79</td>\n",
       "      <td>444</td>\n",
       "      <td>-1198.0</td>\n",
       "      <td>-36.0</td>\n",
       "      <td>-1052.0</td>\n",
       "    </tr>\n",
       "    <tr>\n",
       "      <th>4</th>\n",
       "      <td>2020-01-05</td>\n",
       "      <td>USA</td>\n",
       "      <td>401</td>\n",
       "      <td>12</td>\n",
       "      <td>322</td>\n",
       "      <td>67</td>\n",
       "      <td>464</td>\n",
       "      <td>80.0</td>\n",
       "      <td>-3.0</td>\n",
       "      <td>97.0</td>\n",
       "    </tr>\n",
       "  </tbody>\n",
       "</table>\n",
       "</div>"
      ],
      "text/plain": [
       "        Date Country  Confirmed_Cases  Deaths  Recovered  Active_Cases  \\\n",
       "0 2020-01-01     USA             5261      82       4849           328   \n",
       "1 2020-01-02     USA              742      29        547           165   \n",
       "2 2020-01-03     USA             1519      51       1277           190   \n",
       "3 2020-01-04     USA              321      15        225            79   \n",
       "4 2020-01-05     USA              401      12        322            67   \n",
       "\n",
       "   Tests_Conducted  Daily_Confirmed  Daily_Deaths  Daily_Recovered  \n",
       "0             8132              0.0           0.0              0.0  \n",
       "1             1451          -4519.0         -53.0          -4302.0  \n",
       "2             2094            777.0          22.0            730.0  \n",
       "3              444          -1198.0         -36.0          -1052.0  \n",
       "4              464             80.0          -3.0             97.0  "
      ]
     },
     "execution_count": 16,
     "metadata": {},
     "output_type": "execute_result"
    }
   ],
   "source": [
    "df.head()"
   ]
  },
  {
   "cell_type": "code",
   "execution_count": 17,
   "id": "5164024d-bf1d-494e-8723-f6f9476553a5",
   "metadata": {},
   "outputs": [],
   "source": [
    "# Calculate the case fatality rate (Deaths/Confirmed Cases) for each country\n",
    "df['Fatality_Rate'] = df['Deaths'] / df['Confirmed_Cases'] * 100\n"
   ]
  },
  {
   "cell_type": "code",
   "execution_count": 18,
   "id": "b73d856d-8422-44a8-bee7-a7a04ae4a512",
   "metadata": {},
   "outputs": [],
   "source": [
    "# Group data by country and calculate the average fatality rate\n",
    "fatality_rate_by_country = df.groupby('Country')['Fatality_Rate'].mean().round(2).sort_values(ascending=False)"
   ]
  },
  {
   "cell_type": "code",
   "execution_count": 19,
   "id": "95084414-150d-47ca-8e7a-44e899a26012",
   "metadata": {},
   "outputs": [
    {
     "data": {
      "text/plain": [
       "Country\n",
       "Germany    2.96\n",
       "Russia     2.96\n",
       "UK         2.95\n",
       "Spain      2.94\n",
       "China      2.93\n",
       "India      2.93\n",
       "USA        2.93\n",
       "Italy      2.92\n",
       "France     2.91\n",
       "Brazil     2.90\n",
       "Name: Fatality_Rate, dtype: float64"
      ]
     },
     "execution_count": 19,
     "metadata": {},
     "output_type": "execute_result"
    }
   ],
   "source": [
    "fatality_rate_by_country"
   ]
  },
  {
   "cell_type": "markdown",
   "id": "08dfd3ca-450f-4e01-9c46-8573fc773ab0",
   "metadata": {},
   "source": [
    "# HIGHEST FATALITY RATE"
   ]
  },
  {
   "cell_type": "code",
   "execution_count": 20,
   "id": "fb321a59-6dcc-4af8-bd2f-15aebd7727be",
   "metadata": {},
   "outputs": [
    {
     "data": {
      "text/plain": [
       "Country\n",
       "Germany    2.96\n",
       "Name: Fatality_Rate, dtype: float64"
      ]
     },
     "execution_count": 20,
     "metadata": {},
     "output_type": "execute_result"
    }
   ],
   "source": [
    "fatality_rate_by_country.head(1)"
   ]
  },
  {
   "cell_type": "markdown",
   "id": "53e6656b-ed11-4297-9e6d-41292e86a3fc",
   "metadata": {},
   "source": [
    "# LOWEST FATALITY RATE"
   ]
  },
  {
   "cell_type": "code",
   "execution_count": 21,
   "id": "16dd428d-0a2f-4423-99c4-17459c9363cb",
   "metadata": {},
   "outputs": [
    {
     "data": {
      "text/plain": [
       "Country\n",
       "Brazil    2.9\n",
       "Name: Fatality_Rate, dtype: float64"
      ]
     },
     "execution_count": 21,
     "metadata": {},
     "output_type": "execute_result"
    }
   ],
   "source": [
    "fatality_rate_by_country.tail(1)"
   ]
  },
  {
   "cell_type": "markdown",
   "id": "cb23c827-ef31-45fa-bf1c-7cb7564c11fd",
   "metadata": {},
   "source": [
    "# RECOVERY RATE FOR EACH COUNTRY"
   ]
  },
  {
   "cell_type": "code",
   "execution_count": 22,
   "id": "b4d97ccc-7dc1-4f61-acb5-3ad53c6291e9",
   "metadata": {},
   "outputs": [],
   "source": [
    "# Calculate recovery rate for each country (Recovered/Confirmed Cases)\n",
    "df['Recovery_Rate'] = df['Recovered'] / df['Confirmed_Cases'] * 100"
   ]
  },
  {
   "cell_type": "code",
   "execution_count": 23,
   "id": "a11ad206-fb1c-41aa-b90d-654cfc0b2d0e",
   "metadata": {},
   "outputs": [],
   "source": [
    "recovery_rate_by_country = df.groupby('Country')['Recovery_Rate'].mean().round(2)"
   ]
  },
  {
   "cell_type": "code",
   "execution_count": 24,
   "id": "5c205481-6b9c-4cd5-aa99-a81e82fcaf64",
   "metadata": {},
   "outputs": [
    {
     "data": {
      "text/plain": [
       "Country\n",
       "Brazil     82.72\n",
       "China      82.52\n",
       "France     82.59\n",
       "Germany    82.53\n",
       "India      82.39\n",
       "Italy      82.43\n",
       "Russia     82.38\n",
       "Spain      82.66\n",
       "UK         82.75\n",
       "USA        82.57\n",
       "Name: Recovery_Rate, dtype: float64"
      ]
     },
     "execution_count": 24,
     "metadata": {},
     "output_type": "execute_result"
    }
   ],
   "source": [
    "recovery_rate_by_country"
   ]
  },
  {
   "cell_type": "markdown",
   "id": "a9234af2-59f2-45de-b753-87dbb0ca044c",
   "metadata": {},
   "source": [
    "# DAILY CONFIRMED CASES FOR 3 COUNTRIES"
   ]
  },
  {
   "cell_type": "code",
   "execution_count": 25,
   "id": "aee83273-520f-4ab9-affb-2fd01925b8fb",
   "metadata": {},
   "outputs": [],
   "source": [
    "df1=df[(df['Country']=='India' ) | (df['Country']=='USA' )  | (df['Country']=='UK' )]"
   ]
  },
  {
   "cell_type": "code",
   "execution_count": 26,
   "id": "9d215d4a-90e8-4b47-9da6-1f59d9bdb0c1",
   "metadata": {},
   "outputs": [
    {
     "data": {
      "text/html": [
       "<div>\n",
       "<style scoped>\n",
       "    .dataframe tbody tr th:only-of-type {\n",
       "        vertical-align: middle;\n",
       "    }\n",
       "\n",
       "    .dataframe tbody tr th {\n",
       "        vertical-align: top;\n",
       "    }\n",
       "\n",
       "    .dataframe thead th {\n",
       "        text-align: right;\n",
       "    }\n",
       "</style>\n",
       "<table border=\"1\" class=\"dataframe\">\n",
       "  <thead>\n",
       "    <tr style=\"text-align: right;\">\n",
       "      <th></th>\n",
       "      <th>Date</th>\n",
       "      <th>Country</th>\n",
       "      <th>Confirmed_Cases</th>\n",
       "      <th>Deaths</th>\n",
       "      <th>Recovered</th>\n",
       "      <th>Active_Cases</th>\n",
       "      <th>Tests_Conducted</th>\n",
       "      <th>Daily_Confirmed</th>\n",
       "      <th>Daily_Deaths</th>\n",
       "      <th>Daily_Recovered</th>\n",
       "      <th>Fatality_Rate</th>\n",
       "      <th>Recovery_Rate</th>\n",
       "    </tr>\n",
       "  </thead>\n",
       "  <tbody>\n",
       "    <tr>\n",
       "      <th>0</th>\n",
       "      <td>2020-01-01</td>\n",
       "      <td>USA</td>\n",
       "      <td>5261</td>\n",
       "      <td>82</td>\n",
       "      <td>4849</td>\n",
       "      <td>328</td>\n",
       "      <td>8132</td>\n",
       "      <td>0.0</td>\n",
       "      <td>0.0</td>\n",
       "      <td>0.0</td>\n",
       "      <td>1.558639</td>\n",
       "      <td>92.168789</td>\n",
       "    </tr>\n",
       "    <tr>\n",
       "      <th>1</th>\n",
       "      <td>2020-01-02</td>\n",
       "      <td>USA</td>\n",
       "      <td>742</td>\n",
       "      <td>29</td>\n",
       "      <td>547</td>\n",
       "      <td>165</td>\n",
       "      <td>1451</td>\n",
       "      <td>-4519.0</td>\n",
       "      <td>-53.0</td>\n",
       "      <td>-4302.0</td>\n",
       "      <td>3.908356</td>\n",
       "      <td>73.719677</td>\n",
       "    </tr>\n",
       "  </tbody>\n",
       "</table>\n",
       "</div>"
      ],
      "text/plain": [
       "        Date Country  Confirmed_Cases  Deaths  Recovered  Active_Cases  \\\n",
       "0 2020-01-01     USA             5261      82       4849           328   \n",
       "1 2020-01-02     USA              742      29        547           165   \n",
       "\n",
       "   Tests_Conducted  Daily_Confirmed  Daily_Deaths  Daily_Recovered  \\\n",
       "0             8132              0.0           0.0              0.0   \n",
       "1             1451          -4519.0         -53.0          -4302.0   \n",
       "\n",
       "   Fatality_Rate  Recovery_Rate  \n",
       "0       1.558639      92.168789  \n",
       "1       3.908356      73.719677  "
      ]
     },
     "execution_count": 26,
     "metadata": {},
     "output_type": "execute_result"
    }
   ],
   "source": [
    "df1.head(2)"
   ]
  },
  {
   "cell_type": "code",
   "execution_count": 27,
   "id": "cc4c10ae-7add-4dba-898c-c955078ec7d7",
   "metadata": {},
   "outputs": [],
   "source": [
    "import seaborn as sns"
   ]
  },
  {
   "cell_type": "code",
   "execution_count": 28,
   "id": "15e7c4ad-7538-4e94-9e91-abdf57845d1d",
   "metadata": {},
   "outputs": [
    {
     "data": {
      "text/plain": [
       "<Axes: xlabel='Date', ylabel='Daily_Confirmed'>"
      ]
     },
     "execution_count": 28,
     "metadata": {},
     "output_type": "execute_result"
    },
    {
     "data": {
      "image/png": "[encoded data removed]",
      "text/plain": [
       "<Figure size 640x480 with 1 Axes>"
      ]
     },
     "metadata": {},
     "output_type": "display_data"
    }
   ],
   "source": [
    "sns.lineplot(data=df1,x='Date',y='Daily_Confirmed',hue='Country')"
   ]
  },
  {
   "cell_type": "code",
   "execution_count": null,
   "id": "9f7cebd5-4252-4b9c-abb8-ceed2281084e",
   "metadata": {},
   "outputs": [],
   "source": []
  },
  {
   "cell_type": "code",
   "execution_count": 29,
   "id": "65c492a8-744d-422f-abf7-20870a26ab02",
   "metadata": {},
   "outputs": [],
   "source": [
    "df2=df1.groupby(['Date','Country'])['Confirmed_Cases'].value_counts().reset_index()"
   ]
  },
  {
   "cell_type": "code",
   "execution_count": 30,
   "id": "812eca68-bd61-4bcf-a038-7b28540d1923",
   "metadata": {},
   "outputs": [
    {
     "data": {
      "text/html": [
       "<div>\n",
       "<style scoped>\n",
       "    .dataframe tbody tr th:only-of-type {\n",
       "        vertical-align: middle;\n",
       "    }\n",
       "\n",
       "    .dataframe tbody tr th {\n",
       "        vertical-align: top;\n",
       "    }\n",
       "\n",
       "    .dataframe thead th {\n",
       "        text-align: right;\n",
       "    }\n",
       "</style>\n",
       "<table border=\"1\" class=\"dataframe\">\n",
       "  <thead>\n",
       "    <tr style=\"text-align: right;\">\n",
       "      <th></th>\n",
       "      <th>Date</th>\n",
       "      <th>Country</th>\n",
       "      <th>Confirmed_Cases</th>\n",
       "      <th>count</th>\n",
       "    </tr>\n",
       "  </thead>\n",
       "  <tbody>\n",
       "    <tr>\n",
       "      <th>0</th>\n",
       "      <td>2020-01-01</td>\n",
       "      <td>India</td>\n",
       "      <td>4550</td>\n",
       "      <td>1</td>\n",
       "    </tr>\n",
       "    <tr>\n",
       "      <th>1</th>\n",
       "      <td>2020-01-01</td>\n",
       "      <td>UK</td>\n",
       "      <td>2683</td>\n",
       "      <td>1</td>\n",
       "    </tr>\n",
       "    <tr>\n",
       "      <th>2</th>\n",
       "      <td>2020-01-01</td>\n",
       "      <td>USA</td>\n",
       "      <td>5261</td>\n",
       "      <td>1</td>\n",
       "    </tr>\n",
       "    <tr>\n",
       "      <th>3</th>\n",
       "      <td>2020-01-02</td>\n",
       "      <td>India</td>\n",
       "      <td>1053</td>\n",
       "      <td>1</td>\n",
       "    </tr>\n",
       "    <tr>\n",
       "      <th>4</th>\n",
       "      <td>2020-01-02</td>\n",
       "      <td>UK</td>\n",
       "      <td>2446</td>\n",
       "      <td>1</td>\n",
       "    </tr>\n",
       "    <tr>\n",
       "      <th>...</th>\n",
       "      <td>...</td>\n",
       "      <td>...</td>\n",
       "      <td>...</td>\n",
       "      <td>...</td>\n",
       "    </tr>\n",
       "    <tr>\n",
       "      <th>5476</th>\n",
       "      <td>2024-12-30</td>\n",
       "      <td>UK</td>\n",
       "      <td>2307</td>\n",
       "      <td>1</td>\n",
       "    </tr>\n",
       "    <tr>\n",
       "      <th>5477</th>\n",
       "      <td>2024-12-30</td>\n",
       "      <td>USA</td>\n",
       "      <td>1782</td>\n",
       "      <td>1</td>\n",
       "    </tr>\n",
       "    <tr>\n",
       "      <th>5478</th>\n",
       "      <td>2024-12-31</td>\n",
       "      <td>India</td>\n",
       "      <td>1893</td>\n",
       "      <td>1</td>\n",
       "    </tr>\n",
       "    <tr>\n",
       "      <th>5479</th>\n",
       "      <td>2024-12-31</td>\n",
       "      <td>UK</td>\n",
       "      <td>1764</td>\n",
       "      <td>1</td>\n",
       "    </tr>\n",
       "    <tr>\n",
       "      <th>5480</th>\n",
       "      <td>2024-12-31</td>\n",
       "      <td>USA</td>\n",
       "      <td>254</td>\n",
       "      <td>1</td>\n",
       "    </tr>\n",
       "  </tbody>\n",
       "</table>\n",
       "<p>5481 rows × 4 columns</p>\n",
       "</div>"
      ],
      "text/plain": [
       "           Date Country  Confirmed_Cases  count\n",
       "0    2020-01-01   India             4550      1\n",
       "1    2020-01-01      UK             2683      1\n",
       "2    2020-01-01     USA             5261      1\n",
       "3    2020-01-02   India             1053      1\n",
       "4    2020-01-02      UK             2446      1\n",
       "...         ...     ...              ...    ...\n",
       "5476 2024-12-30      UK             2307      1\n",
       "5477 2024-12-30     USA             1782      1\n",
       "5478 2024-12-31   India             1893      1\n",
       "5479 2024-12-31      UK             1764      1\n",
       "5480 2024-12-31     USA              254      1\n",
       "\n",
       "[5481 rows x 4 columns]"
      ]
     },
     "execution_count": 30,
     "metadata": {},
     "output_type": "execute_result"
    }
   ],
   "source": [
    "df2"
   ]
  },
  {
   "cell_type": "markdown",
   "id": "09f7b040-0832-4406-a7bb-a136ea2e31c2",
   "metadata": {},
   "source": [
    "# A BAR CHART COMPARING TOTAL CONFIRMED CASES FOR THE TOP 5 COUNTRIES"
   ]
  },
  {
   "cell_type": "code",
   "execution_count": 31,
   "id": "a534da8e-d7a2-438f-ae5d-5b62cac23254",
   "metadata": {},
   "outputs": [
    {
     "data": {
      "text/plain": [
       "<Axes: xlabel='Country'>"
      ]
     },
     "execution_count": 31,
     "metadata": {},
     "output_type": "execute_result"
    },
    {
     "data": {
      "image/png": "[encoded data removed]",
      "text/plain": [
       "<Figure size 640x480 with 1 Axes>"
      ]
     },
     "metadata": {},
     "output_type": "display_data"
    }
   ],
   "source": [
    "df.groupby('Country')['Confirmed_Cases'].max().sort_values(ascending=False).head(5).plot(kind='bar')"
   ]
  },
  {
   "cell_type": "markdown",
   "id": "8886e869-85f9-49b5-a92b-48a8771de40f",
   "metadata": {},
   "source": [
    "# A PIE CHART SHOWING THE PROPORTION OF ACTIVE CASES, DEATHS, AND RECOVERIES FOR A SPECIFIC COUNTRY."
   ]
  },
  {
   "cell_type": "code",
   "execution_count": 32,
   "id": "71742e01-5e7f-43d4-bdfd-9af6a06db669",
   "metadata": {},
   "outputs": [],
   "source": [
    "df_india = df[(df['Country']=='India' )]"
   ]
  },
  {
   "cell_type": "code",
   "execution_count": 33,
   "id": "c3e7ada6-9340-43da-a750-b5ffa8f60daa",
   "metadata": {},
   "outputs": [
    {
     "data": {
      "text/html": [
       "<div>\n",
       "<style scoped>\n",
       "    .dataframe tbody tr th:only-of-type {\n",
       "        vertical-align: middle;\n",
       "    }\n",
       "\n",
       "    .dataframe tbody tr th {\n",
       "        vertical-align: top;\n",
       "    }\n",
       "\n",
       "    .dataframe thead th {\n",
       "        text-align: right;\n",
       "    }\n",
       "</style>\n",
       "<table border=\"1\" class=\"dataframe\">\n",
       "  <thead>\n",
       "    <tr style=\"text-align: right;\">\n",
       "      <th></th>\n",
       "      <th>Date</th>\n",
       "      <th>Country</th>\n",
       "      <th>Confirmed_Cases</th>\n",
       "      <th>Deaths</th>\n",
       "      <th>Recovered</th>\n",
       "      <th>Active_Cases</th>\n",
       "      <th>Tests_Conducted</th>\n",
       "      <th>Daily_Confirmed</th>\n",
       "      <th>Daily_Deaths</th>\n",
       "      <th>Daily_Recovered</th>\n",
       "      <th>Fatality_Rate</th>\n",
       "      <th>Recovery_Rate</th>\n",
       "    </tr>\n",
       "  </thead>\n",
       "  <tbody>\n",
       "    <tr>\n",
       "      <th>1827</th>\n",
       "      <td>2020-01-01</td>\n",
       "      <td>India</td>\n",
       "      <td>4550</td>\n",
       "      <td>48</td>\n",
       "      <td>3937</td>\n",
       "      <td>564</td>\n",
       "      <td>8163</td>\n",
       "      <td>0.0</td>\n",
       "      <td>0.0</td>\n",
       "      <td>0.0</td>\n",
       "      <td>1.054945</td>\n",
       "      <td>86.527473</td>\n",
       "    </tr>\n",
       "    <tr>\n",
       "      <th>1828</th>\n",
       "      <td>2020-01-02</td>\n",
       "      <td>India</td>\n",
       "      <td>1053</td>\n",
       "      <td>51</td>\n",
       "      <td>957</td>\n",
       "      <td>45</td>\n",
       "      <td>1219</td>\n",
       "      <td>-3497.0</td>\n",
       "      <td>3.0</td>\n",
       "      <td>-2980.0</td>\n",
       "      <td>4.843305</td>\n",
       "      <td>90.883191</td>\n",
       "    </tr>\n",
       "    <tr>\n",
       "      <th>1829</th>\n",
       "      <td>2020-01-03</td>\n",
       "      <td>India</td>\n",
       "      <td>49</td>\n",
       "      <td>1</td>\n",
       "      <td>42</td>\n",
       "      <td>4</td>\n",
       "      <td>65</td>\n",
       "      <td>-1004.0</td>\n",
       "      <td>-50.0</td>\n",
       "      <td>-915.0</td>\n",
       "      <td>2.040816</td>\n",
       "      <td>85.714286</td>\n",
       "    </tr>\n",
       "    <tr>\n",
       "      <th>1830</th>\n",
       "      <td>2020-01-04</td>\n",
       "      <td>India</td>\n",
       "      <td>1047</td>\n",
       "      <td>17</td>\n",
       "      <td>995</td>\n",
       "      <td>35</td>\n",
       "      <td>1434</td>\n",
       "      <td>998.0</td>\n",
       "      <td>16.0</td>\n",
       "      <td>953.0</td>\n",
       "      <td>1.623687</td>\n",
       "      <td>95.033429</td>\n",
       "    </tr>\n",
       "    <tr>\n",
       "      <th>1831</th>\n",
       "      <td>2020-01-05</td>\n",
       "      <td>India</td>\n",
       "      <td>1020</td>\n",
       "      <td>28</td>\n",
       "      <td>834</td>\n",
       "      <td>157</td>\n",
       "      <td>1680</td>\n",
       "      <td>-27.0</td>\n",
       "      <td>11.0</td>\n",
       "      <td>-161.0</td>\n",
       "      <td>2.745098</td>\n",
       "      <td>81.764706</td>\n",
       "    </tr>\n",
       "  </tbody>\n",
       "</table>\n",
       "</div>"
      ],
      "text/plain": [
       "           Date Country  Confirmed_Cases  Deaths  Recovered  Active_Cases  \\\n",
       "1827 2020-01-01   India             4550      48       3937           564   \n",
       "1828 2020-01-02   India             1053      51        957            45   \n",
       "1829 2020-01-03   India               49       1         42             4   \n",
       "1830 2020-01-04   India             1047      17        995            35   \n",
       "1831 2020-01-05   India             1020      28        834           157   \n",
       "\n",
       "      Tests_Conducted  Daily_Confirmed  Daily_Deaths  Daily_Recovered  \\\n",
       "1827             8163              0.0           0.0              0.0   \n",
       "1828             1219          -3497.0           3.0          -2980.0   \n",
       "1829               65          -1004.0         -50.0           -915.0   \n",
       "1830             1434            998.0          16.0            953.0   \n",
       "1831             1680            -27.0          11.0           -161.0   \n",
       "\n",
       "      Fatality_Rate  Recovery_Rate  \n",
       "1827       1.054945      86.527473  \n",
       "1828       4.843305      90.883191  \n",
       "1829       2.040816      85.714286  \n",
       "1830       1.623687      95.033429  \n",
       "1831       2.745098      81.764706  "
      ]
     },
     "execution_count": 33,
     "metadata": {},
     "output_type": "execute_result"
    }
   ],
   "source": [
    "df_india.head()"
   ]
  },
  {
   "cell_type": "code",
   "execution_count": 34,
   "id": "ca2c0b3b-b428-47e3-94b9-0fde406b3be5",
   "metadata": {},
   "outputs": [
    {
     "data": {
      "text/plain": [
       "Text(0.5, 1.0, 'Proportion of Cases in India')"
      ]
     },
     "execution_count": 34,
     "metadata": {},
     "output_type": "execute_result"
    },
    {
     "data": {
      "image/png": "[encoded data removed]",
      "text/plain": [
       "<Figure size 640x480 with 1 Axes>"
      ]
     },
     "metadata": {},
     "output_type": "display_data"
    }
   ],
   "source": [
    "df_india[['Active_Cases', 'Deaths', 'Recovered']].sum().plot(kind='pie',autopct='%1.1f%%')\n",
    "plt.title(f'Proportion of Cases in India')"
   ]
  },
  {
   "cell_type": "markdown",
   "id": "c30d8382-51c0-42db-8f24-df888ec94891",
   "metadata": {},
   "source": [
    "# SCATTER PLOT TO ANALYZE RELATIONSHIP BETWEEN TESTS CONDUCTED AND CONFIRMED CASES"
   ]
  },
  {
   "cell_type": "code",
   "execution_count": 35,
   "id": "d3fdeaa2-63f7-43e4-b461-d5b1942154e6",
   "metadata": {},
   "outputs": [],
   "source": [
    "df_new=df[['Tests_Conducted','Confirmed_Cases']].reset_index()"
   ]
  },
  {
   "cell_type": "code",
   "execution_count": 36,
   "id": "28e4f8ad-acce-492f-b9ef-36424eb9a20e",
   "metadata": {},
   "outputs": [
    {
     "data": {
      "text/html": [
       "<div>\n",
       "<style scoped>\n",
       "    .dataframe tbody tr th:only-of-type {\n",
       "        vertical-align: middle;\n",
       "    }\n",
       "\n",
       "    .dataframe tbody tr th {\n",
       "        vertical-align: top;\n",
       "    }\n",
       "\n",
       "    .dataframe thead th {\n",
       "        text-align: right;\n",
       "    }\n",
       "</style>\n",
       "<table border=\"1\" class=\"dataframe\">\n",
       "  <thead>\n",
       "    <tr style=\"text-align: right;\">\n",
       "      <th></th>\n",
       "      <th>index</th>\n",
       "      <th>Tests_Conducted</th>\n",
       "      <th>Confirmed_Cases</th>\n",
       "    </tr>\n",
       "  </thead>\n",
       "  <tbody>\n",
       "    <tr>\n",
       "      <th>0</th>\n",
       "      <td>0</td>\n",
       "      <td>8132</td>\n",
       "      <td>5261</td>\n",
       "    </tr>\n",
       "    <tr>\n",
       "      <th>1</th>\n",
       "      <td>1</td>\n",
       "      <td>1451</td>\n",
       "      <td>742</td>\n",
       "    </tr>\n",
       "    <tr>\n",
       "      <th>2</th>\n",
       "      <td>2</td>\n",
       "      <td>2094</td>\n",
       "      <td>1519</td>\n",
       "    </tr>\n",
       "    <tr>\n",
       "      <th>3</th>\n",
       "      <td>3</td>\n",
       "      <td>444</td>\n",
       "      <td>321</td>\n",
       "    </tr>\n",
       "    <tr>\n",
       "      <th>4</th>\n",
       "      <td>4</td>\n",
       "      <td>464</td>\n",
       "      <td>401</td>\n",
       "    </tr>\n",
       "    <tr>\n",
       "      <th>...</th>\n",
       "      <td>...</td>\n",
       "      <td>...</td>\n",
       "      <td>...</td>\n",
       "    </tr>\n",
       "    <tr>\n",
       "      <th>18265</th>\n",
       "      <td>18265</td>\n",
       "      <td>2545</td>\n",
       "      <td>1368</td>\n",
       "    </tr>\n",
       "    <tr>\n",
       "      <th>18266</th>\n",
       "      <td>18266</td>\n",
       "      <td>1002</td>\n",
       "      <td>824</td>\n",
       "    </tr>\n",
       "    <tr>\n",
       "      <th>18267</th>\n",
       "      <td>18267</td>\n",
       "      <td>2657</td>\n",
       "      <td>2003</td>\n",
       "    </tr>\n",
       "    <tr>\n",
       "      <th>18268</th>\n",
       "      <td>18268</td>\n",
       "      <td>945</td>\n",
       "      <td>833</td>\n",
       "    </tr>\n",
       "    <tr>\n",
       "      <th>18269</th>\n",
       "      <td>18269</td>\n",
       "      <td>836</td>\n",
       "      <td>432</td>\n",
       "    </tr>\n",
       "  </tbody>\n",
       "</table>\n",
       "<p>18270 rows × 3 columns</p>\n",
       "</div>"
      ],
      "text/plain": [
       "       index  Tests_Conducted  Confirmed_Cases\n",
       "0          0             8132             5261\n",
       "1          1             1451              742\n",
       "2          2             2094             1519\n",
       "3          3              444              321\n",
       "4          4              464              401\n",
       "...      ...              ...              ...\n",
       "18265  18265             2545             1368\n",
       "18266  18266             1002              824\n",
       "18267  18267             2657             2003\n",
       "18268  18268              945              833\n",
       "18269  18269              836              432\n",
       "\n",
       "[18270 rows x 3 columns]"
      ]
     },
     "execution_count": 36,
     "metadata": {},
     "output_type": "execute_result"
    }
   ],
   "source": [
    "df_new"
   ]
  },
  {
   "cell_type": "code",
   "execution_count": 37,
   "id": "39a74bf1-4bb4-4194-9385-1ef12e282ead",
   "metadata": {},
   "outputs": [],
   "source": [
    "df_new = df[['Tests_Conducted','Confirmed_Cases']].reset_index()"
   ]
  },
  {
   "cell_type": "code",
   "execution_count": 38,
   "id": "eca22fd3-8ea1-4766-aaee-a4e7ac3f3697",
   "metadata": {},
   "outputs": [
    {
     "data": {
      "text/html": [
       "<div>\n",
       "<style scoped>\n",
       "    .dataframe tbody tr th:only-of-type {\n",
       "        vertical-align: middle;\n",
       "    }\n",
       "\n",
       "    .dataframe tbody tr th {\n",
       "        vertical-align: top;\n",
       "    }\n",
       "\n",
       "    .dataframe thead th {\n",
       "        text-align: right;\n",
       "    }\n",
       "</style>\n",
       "<table border=\"1\" class=\"dataframe\">\n",
       "  <thead>\n",
       "    <tr style=\"text-align: right;\">\n",
       "      <th></th>\n",
       "      <th>index</th>\n",
       "      <th>Tests_Conducted</th>\n",
       "      <th>Confirmed_Cases</th>\n",
       "    </tr>\n",
       "  </thead>\n",
       "  <tbody>\n",
       "    <tr>\n",
       "      <th>0</th>\n",
       "      <td>0</td>\n",
       "      <td>8132</td>\n",
       "      <td>5261</td>\n",
       "    </tr>\n",
       "    <tr>\n",
       "      <th>1</th>\n",
       "      <td>1</td>\n",
       "      <td>1451</td>\n",
       "      <td>742</td>\n",
       "    </tr>\n",
       "    <tr>\n",
       "      <th>2</th>\n",
       "      <td>2</td>\n",
       "      <td>2094</td>\n",
       "      <td>1519</td>\n",
       "    </tr>\n",
       "    <tr>\n",
       "      <th>3</th>\n",
       "      <td>3</td>\n",
       "      <td>444</td>\n",
       "      <td>321</td>\n",
       "    </tr>\n",
       "    <tr>\n",
       "      <th>4</th>\n",
       "      <td>4</td>\n",
       "      <td>464</td>\n",
       "      <td>401</td>\n",
       "    </tr>\n",
       "    <tr>\n",
       "      <th>...</th>\n",
       "      <td>...</td>\n",
       "      <td>...</td>\n",
       "      <td>...</td>\n",
       "    </tr>\n",
       "    <tr>\n",
       "      <th>18265</th>\n",
       "      <td>18265</td>\n",
       "      <td>2545</td>\n",
       "      <td>1368</td>\n",
       "    </tr>\n",
       "    <tr>\n",
       "      <th>18266</th>\n",
       "      <td>18266</td>\n",
       "      <td>1002</td>\n",
       "      <td>824</td>\n",
       "    </tr>\n",
       "    <tr>\n",
       "      <th>18267</th>\n",
       "      <td>18267</td>\n",
       "      <td>2657</td>\n",
       "      <td>2003</td>\n",
       "    </tr>\n",
       "    <tr>\n",
       "      <th>18268</th>\n",
       "      <td>18268</td>\n",
       "      <td>945</td>\n",
       "      <td>833</td>\n",
       "    </tr>\n",
       "    <tr>\n",
       "      <th>18269</th>\n",
       "      <td>18269</td>\n",
       "      <td>836</td>\n",
       "      <td>432</td>\n",
       "    </tr>\n",
       "  </tbody>\n",
       "</table>\n",
       "<p>18270 rows × 3 columns</p>\n",
       "</div>"
      ],
      "text/plain": [
       "       index  Tests_Conducted  Confirmed_Cases\n",
       "0          0             8132             5261\n",
       "1          1             1451              742\n",
       "2          2             2094             1519\n",
       "3          3              444              321\n",
       "4          4              464              401\n",
       "...      ...              ...              ...\n",
       "18265  18265             2545             1368\n",
       "18266  18266             1002              824\n",
       "18267  18267             2657             2003\n",
       "18268  18268              945              833\n",
       "18269  18269              836              432\n",
       "\n",
       "[18270 rows x 3 columns]"
      ]
     },
     "execution_count": 38,
     "metadata": {},
     "output_type": "execute_result"
    }
   ],
   "source": [
    "df_new"
   ]
  },
  {
   "cell_type": "code",
   "execution_count": 39,
   "id": "aca4efd1-62e2-4c16-b62d-16c9426b7683",
   "metadata": {},
   "outputs": [
    {
     "data": {
      "image/png": "[encoded data removed]",
      "text/plain": [
       "<Figure size 640x480 with 1 Axes>"
      ]
     },
     "metadata": {},
     "output_type": "display_data"
    }
   ],
   "source": [
    "plt.scatter(df_new['Tests_Conducted'],df_new['Confirmed_Cases'])\n",
    "plt.title('Tests Conducted vs. Confirmed Cases')\n",
    "plt.xlabel('Tests Conducted')\n",
    "plt.ylabel('Confirmed Cases')\n",
    "plt.show()"
   ]
  },
  {
   "cell_type": "code",
   "execution_count": 40,
   "id": "fc4d8660-364f-4a4e-b171-83e8994707a7",
   "metadata": {},
   "outputs": [
    {
     "data": {
      "text/html": [
       "<div>\n",
       "<style scoped>\n",
       "    .dataframe tbody tr th:only-of-type {\n",
       "        vertical-align: middle;\n",
       "    }\n",
       "\n",
       "    .dataframe tbody tr th {\n",
       "        vertical-align: top;\n",
       "    }\n",
       "\n",
       "    .dataframe thead th {\n",
       "        text-align: right;\n",
       "    }\n",
       "</style>\n",
       "<table border=\"1\" class=\"dataframe\">\n",
       "  <thead>\n",
       "    <tr style=\"text-align: right;\">\n",
       "      <th></th>\n",
       "      <th>Date</th>\n",
       "      <th>Country</th>\n",
       "      <th>Confirmed_Cases</th>\n",
       "      <th>Deaths</th>\n",
       "      <th>Recovered</th>\n",
       "      <th>Active_Cases</th>\n",
       "      <th>Tests_Conducted</th>\n",
       "      <th>Daily_Confirmed</th>\n",
       "      <th>Daily_Deaths</th>\n",
       "      <th>Daily_Recovered</th>\n",
       "      <th>Fatality_Rate</th>\n",
       "      <th>Recovery_Rate</th>\n",
       "    </tr>\n",
       "  </thead>\n",
       "  <tbody>\n",
       "    <tr>\n",
       "      <th>1827</th>\n",
       "      <td>2020-01-01</td>\n",
       "      <td>India</td>\n",
       "      <td>4550</td>\n",
       "      <td>48</td>\n",
       "      <td>3937</td>\n",
       "      <td>564</td>\n",
       "      <td>8163</td>\n",
       "      <td>0.0</td>\n",
       "      <td>0.0</td>\n",
       "      <td>0.0</td>\n",
       "      <td>1.054945</td>\n",
       "      <td>86.527473</td>\n",
       "    </tr>\n",
       "    <tr>\n",
       "      <th>1828</th>\n",
       "      <td>2020-01-02</td>\n",
       "      <td>India</td>\n",
       "      <td>1053</td>\n",
       "      <td>51</td>\n",
       "      <td>957</td>\n",
       "      <td>45</td>\n",
       "      <td>1219</td>\n",
       "      <td>-3497.0</td>\n",
       "      <td>3.0</td>\n",
       "      <td>-2980.0</td>\n",
       "      <td>4.843305</td>\n",
       "      <td>90.883191</td>\n",
       "    </tr>\n",
       "    <tr>\n",
       "      <th>1829</th>\n",
       "      <td>2020-01-03</td>\n",
       "      <td>India</td>\n",
       "      <td>49</td>\n",
       "      <td>1</td>\n",
       "      <td>42</td>\n",
       "      <td>4</td>\n",
       "      <td>65</td>\n",
       "      <td>-1004.0</td>\n",
       "      <td>-50.0</td>\n",
       "      <td>-915.0</td>\n",
       "      <td>2.040816</td>\n",
       "      <td>85.714286</td>\n",
       "    </tr>\n",
       "    <tr>\n",
       "      <th>1830</th>\n",
       "      <td>2020-01-04</td>\n",
       "      <td>India</td>\n",
       "      <td>1047</td>\n",
       "      <td>17</td>\n",
       "      <td>995</td>\n",
       "      <td>35</td>\n",
       "      <td>1434</td>\n",
       "      <td>998.0</td>\n",
       "      <td>16.0</td>\n",
       "      <td>953.0</td>\n",
       "      <td>1.623687</td>\n",
       "      <td>95.033429</td>\n",
       "    </tr>\n",
       "    <tr>\n",
       "      <th>1831</th>\n",
       "      <td>2020-01-05</td>\n",
       "      <td>India</td>\n",
       "      <td>1020</td>\n",
       "      <td>28</td>\n",
       "      <td>834</td>\n",
       "      <td>157</td>\n",
       "      <td>1680</td>\n",
       "      <td>-27.0</td>\n",
       "      <td>11.0</td>\n",
       "      <td>-161.0</td>\n",
       "      <td>2.745098</td>\n",
       "      <td>81.764706</td>\n",
       "    </tr>\n",
       "  </tbody>\n",
       "</table>\n",
       "</div>"
      ],
      "text/plain": [
       "           Date Country  Confirmed_Cases  Deaths  Recovered  Active_Cases  \\\n",
       "1827 2020-01-01   India             4550      48       3937           564   \n",
       "1828 2020-01-02   India             1053      51        957            45   \n",
       "1829 2020-01-03   India               49       1         42             4   \n",
       "1830 2020-01-04   India             1047      17        995            35   \n",
       "1831 2020-01-05   India             1020      28        834           157   \n",
       "\n",
       "      Tests_Conducted  Daily_Confirmed  Daily_Deaths  Daily_Recovered  \\\n",
       "1827             8163              0.0           0.0              0.0   \n",
       "1828             1219          -3497.0           3.0          -2980.0   \n",
       "1829               65          -1004.0         -50.0           -915.0   \n",
       "1830             1434            998.0          16.0            953.0   \n",
       "1831             1680            -27.0          11.0           -161.0   \n",
       "\n",
       "      Fatality_Rate  Recovery_Rate  \n",
       "1827       1.054945      86.527473  \n",
       "1828       4.843305      90.883191  \n",
       "1829       2.040816      85.714286  \n",
       "1830       1.623687      95.033429  \n",
       "1831       2.745098      81.764706  "
      ]
     },
     "execution_count": 40,
     "metadata": {},
     "output_type": "execute_result"
    }
   ],
   "source": [
    "df_india.head()"
   ]
  },
  {
   "cell_type": "markdown",
   "id": "64a40891-c923-4bf2-a0d1-29ab1e40fe9b",
   "metadata": {},
   "source": [
    "# PERFORM TIME-SERIES ANALYSIS TO PREDICT FUTURE CASE TRENDS USING OBSERVED PATTERNS.\n",
    "\n",
    "\n",
    "\n"
   ]
  },
  {
   "cell_type": "code",
   "execution_count": 41,
   "id": "c563242f-f414-419c-be45-f662331e1628",
   "metadata": {},
   "outputs": [
    {
     "name": "stdout",
     "output_type": "stream",
     "text": [
      "Requirement already satisfied: statsmodels in c:\\users\\user\\appdata\\local\\programs\\python\\python312\\lib\\site-packages (0.14.4)Note: you may need to restart the kernel to use updated packages.\n",
      "\n",
      "Requirement already satisfied: numpy<3,>=1.22.3 in c:\\users\\user\\appdata\\local\\programs\\python\\python312\\lib\\site-packages (from statsmodels) (1.26.2)\n",
      "Requirement already satisfied: scipy!=1.9.2,>=1.8 in c:\\users\\user\\appdata\\local\\programs\\python\\python312\\lib\\site-packages (from statsmodels) (1.11.4)\n",
      "Requirement already satisfied: pandas!=2.1.0,>=1.4 in c:\\users\\user\\appdata\\local\\programs\\python\\python312\\lib\\site-packages (from statsmodels) (2.1.3)\n",
      "Requirement already satisfied: patsy>=0.5.6 in c:\\users\\user\\appdata\\local\\programs\\python\\python312\\lib\\site-packages (from statsmodels) (1.0.1)\n",
      "Requirement already satisfied: packaging>=21.3 in c:\\users\\user\\appdata\\local\\programs\\python\\python312\\lib\\site-packages (from statsmodels) (24.2)\n",
      "Requirement already satisfied: python-dateutil>=2.8.2 in c:\\users\\user\\appdata\\local\\programs\\python\\python312\\lib\\site-packages (from pandas!=2.1.0,>=1.4->statsmodels) (2.8.2)\n",
      "Requirement already satisfied: pytz>=2020.1 in c:\\users\\user\\appdata\\local\\programs\\python\\python312\\lib\\site-packages (from pandas!=2.1.0,>=1.4->statsmodels) (2023.3.post1)\n",
      "Requirement already satisfied: tzdata>=2022.1 in c:\\users\\user\\appdata\\local\\programs\\python\\python312\\lib\\site-packages (from pandas!=2.1.0,>=1.4->statsmodels) (2023.3)\n",
      "Requirement already satisfied: six>=1.5 in c:\\users\\user\\appdata\\local\\programs\\python\\python312\\lib\\site-packages (from python-dateutil>=2.8.2->pandas!=2.1.0,>=1.4->statsmodels) (1.16.0)\n"
     ]
    },
    {
     "name": "stderr",
     "output_type": "stream",
     "text": [
      "\n",
      "[notice] A new release of pip is available: 23.3.1 -> 24.3.1\n",
      "[notice] To update, run: python.exe -m pip install --upgrade pip\n"
     ]
    }
   ],
   "source": [
    "pip install statsmodels"
   ]
  },
  {
   "cell_type": "code",
   "execution_count": 42,
   "id": "cc45d04a-2aa0-4b83-8e91-74c2a0452cca",
   "metadata": {},
   "outputs": [],
   "source": [
    "from statsmodels.tsa.arima.model import ARIMA"
   ]
  },
  {
   "cell_type": "code",
   "execution_count": 43,
   "id": "d50d7b55-f5b3-496d-9447-bfc759e740e3",
   "metadata": {},
   "outputs": [],
   "source": [
    "df_india= df_india.sort_values('Date').reset_index()"
   ]
  },
  {
   "cell_type": "code",
   "execution_count": 44,
   "id": "4084e4bf-38a2-41fe-842c-38d30918bb30",
   "metadata": {},
   "outputs": [
    {
     "data": {
      "text/html": [
       "<div>\n",
       "<style scoped>\n",
       "    .dataframe tbody tr th:only-of-type {\n",
       "        vertical-align: middle;\n",
       "    }\n",
       "\n",
       "    .dataframe tbody tr th {\n",
       "        vertical-align: top;\n",
       "    }\n",
       "\n",
       "    .dataframe thead th {\n",
       "        text-align: right;\n",
       "    }\n",
       "</style>\n",
       "<table border=\"1\" class=\"dataframe\">\n",
       "  <thead>\n",
       "    <tr style=\"text-align: right;\">\n",
       "      <th></th>\n",
       "      <th>index</th>\n",
       "      <th>Date</th>\n",
       "      <th>Country</th>\n",
       "      <th>Confirmed_Cases</th>\n",
       "      <th>Deaths</th>\n",
       "      <th>Recovered</th>\n",
       "      <th>Active_Cases</th>\n",
       "      <th>Tests_Conducted</th>\n",
       "      <th>Daily_Confirmed</th>\n",
       "      <th>Daily_Deaths</th>\n",
       "      <th>Daily_Recovered</th>\n",
       "      <th>Fatality_Rate</th>\n",
       "      <th>Recovery_Rate</th>\n",
       "    </tr>\n",
       "  </thead>\n",
       "  <tbody>\n",
       "    <tr>\n",
       "      <th>0</th>\n",
       "      <td>1827</td>\n",
       "      <td>2020-01-01</td>\n",
       "      <td>India</td>\n",
       "      <td>4550</td>\n",
       "      <td>48</td>\n",
       "      <td>3937</td>\n",
       "      <td>564</td>\n",
       "      <td>8163</td>\n",
       "      <td>0.0</td>\n",
       "      <td>0.0</td>\n",
       "      <td>0.0</td>\n",
       "      <td>1.054945</td>\n",
       "      <td>86.527473</td>\n",
       "    </tr>\n",
       "    <tr>\n",
       "      <th>1</th>\n",
       "      <td>1828</td>\n",
       "      <td>2020-01-02</td>\n",
       "      <td>India</td>\n",
       "      <td>1053</td>\n",
       "      <td>51</td>\n",
       "      <td>957</td>\n",
       "      <td>45</td>\n",
       "      <td>1219</td>\n",
       "      <td>-3497.0</td>\n",
       "      <td>3.0</td>\n",
       "      <td>-2980.0</td>\n",
       "      <td>4.843305</td>\n",
       "      <td>90.883191</td>\n",
       "    </tr>\n",
       "    <tr>\n",
       "      <th>2</th>\n",
       "      <td>1829</td>\n",
       "      <td>2020-01-03</td>\n",
       "      <td>India</td>\n",
       "      <td>49</td>\n",
       "      <td>1</td>\n",
       "      <td>42</td>\n",
       "      <td>4</td>\n",
       "      <td>65</td>\n",
       "      <td>-1004.0</td>\n",
       "      <td>-50.0</td>\n",
       "      <td>-915.0</td>\n",
       "      <td>2.040816</td>\n",
       "      <td>85.714286</td>\n",
       "    </tr>\n",
       "    <tr>\n",
       "      <th>3</th>\n",
       "      <td>1830</td>\n",
       "      <td>2020-01-04</td>\n",
       "      <td>India</td>\n",
       "      <td>1047</td>\n",
       "      <td>17</td>\n",
       "      <td>995</td>\n",
       "      <td>35</td>\n",
       "      <td>1434</td>\n",
       "      <td>998.0</td>\n",
       "      <td>16.0</td>\n",
       "      <td>953.0</td>\n",
       "      <td>1.623687</td>\n",
       "      <td>95.033429</td>\n",
       "    </tr>\n",
       "    <tr>\n",
       "      <th>4</th>\n",
       "      <td>1831</td>\n",
       "      <td>2020-01-05</td>\n",
       "      <td>India</td>\n",
       "      <td>1020</td>\n",
       "      <td>28</td>\n",
       "      <td>834</td>\n",
       "      <td>157</td>\n",
       "      <td>1680</td>\n",
       "      <td>-27.0</td>\n",
       "      <td>11.0</td>\n",
       "      <td>-161.0</td>\n",
       "      <td>2.745098</td>\n",
       "      <td>81.764706</td>\n",
       "    </tr>\n",
       "  </tbody>\n",
       "</table>\n",
       "</div>"
      ],
      "text/plain": [
       "   index       Date Country  Confirmed_Cases  Deaths  Recovered  Active_Cases  \\\n",
       "0   1827 2020-01-01   India             4550      48       3937           564   \n",
       "1   1828 2020-01-02   India             1053      51        957            45   \n",
       "2   1829 2020-01-03   India               49       1         42             4   \n",
       "3   1830 2020-01-04   India             1047      17        995            35   \n",
       "4   1831 2020-01-05   India             1020      28        834           157   \n",
       "\n",
       "   Tests_Conducted  Daily_Confirmed  Daily_Deaths  Daily_Recovered  \\\n",
       "0             8163              0.0           0.0              0.0   \n",
       "1             1219          -3497.0           3.0          -2980.0   \n",
       "2               65          -1004.0         -50.0           -915.0   \n",
       "3             1434            998.0          16.0            953.0   \n",
       "4             1680            -27.0          11.0           -161.0   \n",
       "\n",
       "   Fatality_Rate  Recovery_Rate  \n",
       "0       1.054945      86.527473  \n",
       "1       4.843305      90.883191  \n",
       "2       2.040816      85.714286  \n",
       "3       1.623687      95.033429  \n",
       "4       2.745098      81.764706  "
      ]
     },
     "execution_count": 44,
     "metadata": {},
     "output_type": "execute_result"
    }
   ],
   "source": [
    "df_india.head()"
   ]
  },
  {
   "cell_type": "code",
   "execution_count": 45,
   "id": "b5d52fc9-0317-4dbe-a5e7-177e4334739a",
   "metadata": {},
   "outputs": [],
   "source": [
    "df_ts=df_india['Confirmed_Cases']"
   ]
  },
  {
   "cell_type": "code",
   "execution_count": 46,
   "id": "d5764531-95c5-4d08-a906-d71187d5bcbe",
   "metadata": {},
   "outputs": [
    {
     "data": {
      "text/plain": [
       "0       4550\n",
       "1       1053\n",
       "2         49\n",
       "3       1047\n",
       "4       1020\n",
       "        ... \n",
       "1822     643\n",
       "1823     474\n",
       "1824    1844\n",
       "1825    1698\n",
       "1826    1893\n",
       "Name: Confirmed_Cases, Length: 1827, dtype: int64"
      ]
     },
     "execution_count": 46,
     "metadata": {},
     "output_type": "execute_result"
    }
   ],
   "source": [
    "df_ts"
   ]
  },
  {
   "cell_type": "code",
   "execution_count": 57,
   "id": "971f4d5c-23cc-4393-9c18-8ea9a2e622b5",
   "metadata": {},
   "outputs": [],
   "source": [
    "model = ARIMA(df_ts, order = (1, 1, 1))"
   ]
  },
  {
   "cell_type": "code",
   "execution_count": 58,
   "id": "032fec90-bdf5-4f42-9d3b-705c358ea482",
   "metadata": {},
   "outputs": [],
   "source": [
    "model_fit = model.fit()"
   ]
  },
  {
   "cell_type": "code",
   "execution_count": 59,
   "id": "08fa029c-ff54-4282-8c48-dceb9365b268",
   "metadata": {},
   "outputs": [],
   "source": [
    "forecast =  model_fit.forecast(steps = 30)"
   ]
  },
  {
   "cell_type": "code",
   "execution_count": 60,
   "id": "a8f9a5a6-e8f4-4ee7-91df-c4f58cb236b3",
   "metadata": {},
   "outputs": [
    {
     "data": {
      "text/plain": [
       "1827    1274.551137\n",
       "1828    1182.108576\n",
       "1829    1168.290736\n",
       "1830    1166.225317\n",
       "1831    1165.916588\n",
       "1832    1165.870441\n",
       "1833    1165.863543\n",
       "1834    1165.862512\n",
       "1835    1165.862358\n",
       "1836    1165.862335\n",
       "1837    1165.862332\n",
       "1838    1165.862331\n",
       "1839    1165.862331\n",
       "1840    1165.862331\n",
       "1841    1165.862331\n",
       "1842    1165.862331\n",
       "1843    1165.862331\n",
       "1844    1165.862331\n",
       "1845    1165.862331\n",
       "1846    1165.862331\n",
       "1847    1165.862331\n",
       "1848    1165.862331\n",
       "1849    1165.862331\n",
       "1850    1165.862331\n",
       "1851    1165.862331\n",
       "1852    1165.862331\n",
       "1853    1165.862331\n",
       "1854    1165.862331\n",
       "1855    1165.862331\n",
       "1856    1165.862331\n",
       "Name: predicted_mean, dtype: float64"
      ]
     },
     "execution_count": 60,
     "metadata": {},
     "output_type": "execute_result"
    }
   ],
   "source": [
    "forecast"
   ]
  },
  {
   "cell_type": "code",
   "execution_count": 61,
   "id": "9c78af53-756d-46ed-8d6d-c1a555241e70",
   "metadata": {},
   "outputs": [],
   "source": [
    "forecast_dates = pd.date_range(df_ts.index[-1], periods=30, freq='D')"
   ]
  },
  {
   "cell_type": "code",
   "execution_count": 62,
   "id": "82c98031-6141-482e-b7cd-0f4c738c17d8",
   "metadata": {},
   "outputs": [
    {
     "data": {
      "text/plain": [
       "DatetimeIndex(['1970-01-01 00:00:00.000001826',\n",
       "               '1970-01-02 00:00:00.000001826',\n",
       "               '1970-01-03 00:00:00.000001826',\n",
       "               '1970-01-04 00:00:00.000001826',\n",
       "               '1970-01-05 00:00:00.000001826',\n",
       "               '1970-01-06 00:00:00.000001826',\n",
       "               '1970-01-07 00:00:00.000001826',\n",
       "               '1970-01-08 00:00:00.000001826',\n",
       "               '1970-01-09 00:00:00.000001826',\n",
       "               '1970-01-10 00:00:00.000001826',\n",
       "               '1970-01-11 00:00:00.000001826',\n",
       "               '1970-01-12 00:00:00.000001826',\n",
       "               '1970-01-13 00:00:00.000001826',\n",
       "               '1970-01-14 00:00:00.000001826',\n",
       "               '1970-01-15 00:00:00.000001826',\n",
       "               '1970-01-16 00:00:00.000001826',\n",
       "               '1970-01-17 00:00:00.000001826',\n",
       "               '1970-01-18 00:00:00.000001826',\n",
       "               '1970-01-19 00:00:00.000001826',\n",
       "               '1970-01-20 00:00:00.000001826',\n",
       "               '1970-01-21 00:00:00.000001826',\n",
       "               '1970-01-22 00:00:00.000001826',\n",
       "               '1970-01-23 00:00:00.000001826',\n",
       "               '1970-01-24 00:00:00.000001826',\n",
       "               '1970-01-25 00:00:00.000001826',\n",
       "               '1970-01-26 00:00:00.000001826',\n",
       "               '1970-01-27 00:00:00.000001826',\n",
       "               '1970-01-28 00:00:00.000001826',\n",
       "               '1970-01-29 00:00:00.000001826',\n",
       "               '1970-01-30 00:00:00.000001826'],\n",
       "              dtype='datetime64[ns]', freq='D')"
      ]
     },
     "execution_count": 62,
     "metadata": {},
     "output_type": "execute_result"
    }
   ],
   "source": [
    "forecast_dates"
   ]
  },
  {
   "cell_type": "code",
   "execution_count": 63,
   "id": "2fea5a64-b19f-4c21-a322-7726513fb819",
   "metadata": {},
   "outputs": [],
   "source": [
    "forecast_df = pd.DataFrame({'Date': forecast_dates, 'Forecasted_Cases': forecast})"
   ]
  },
  {
   "cell_type": "code",
   "execution_count": 66,
   "id": "89ed5059-157f-4d09-8d4b-f84ea087424a",
   "metadata": {},
   "outputs": [
    {
     "data": {
      "text/html": [
       "<div>\n",
       "<style scoped>\n",
       "    .dataframe tbody tr th:only-of-type {\n",
       "        vertical-align: middle;\n",
       "    }\n",
       "\n",
       "    .dataframe tbody tr th {\n",
       "        vertical-align: top;\n",
       "    }\n",
       "\n",
       "    .dataframe thead th {\n",
       "        text-align: right;\n",
       "    }\n",
       "</style>\n",
       "<table border=\"1\" class=\"dataframe\">\n",
       "  <thead>\n",
       "    <tr style=\"text-align: right;\">\n",
       "      <th></th>\n",
       "      <th>Date</th>\n",
       "      <th>Forecasted_Cases</th>\n",
       "    </tr>\n",
       "  </thead>\n",
       "  <tbody>\n",
       "    <tr>\n",
       "      <th>1827</th>\n",
       "      <td>1970-01-01 00:00:00.000001826</td>\n",
       "      <td>1274.551137</td>\n",
       "    </tr>\n",
       "    <tr>\n",
       "      <th>1828</th>\n",
       "      <td>1970-01-02 00:00:00.000001826</td>\n",
       "      <td>1182.108576</td>\n",
       "    </tr>\n",
       "    <tr>\n",
       "      <th>1829</th>\n",
       "      <td>1970-01-03 00:00:00.000001826</td>\n",
       "      <td>1168.290736</td>\n",
       "    </tr>\n",
       "    <tr>\n",
       "      <th>1830</th>\n",
       "      <td>1970-01-04 00:00:00.000001826</td>\n",
       "      <td>1166.225317</td>\n",
       "    </tr>\n",
       "    <tr>\n",
       "      <th>1831</th>\n",
       "      <td>1970-01-05 00:00:00.000001826</td>\n",
       "      <td>1165.916588</td>\n",
       "    </tr>\n",
       "  </tbody>\n",
       "</table>\n",
       "</div>"
      ],
      "text/plain": [
       "                              Date  Forecasted_Cases\n",
       "1827 1970-01-01 00:00:00.000001826       1274.551137\n",
       "1828 1970-01-02 00:00:00.000001826       1182.108576\n",
       "1829 1970-01-03 00:00:00.000001826       1168.290736\n",
       "1830 1970-01-04 00:00:00.000001826       1166.225317\n",
       "1831 1970-01-05 00:00:00.000001826       1165.916588"
      ]
     },
     "execution_count": 66,
     "metadata": {},
     "output_type": "execute_result"
    }
   ],
   "source": [
    "forecast_df.head()"
   ]
  },
  {
   "cell_type": "code",
   "execution_count": 67,
   "id": "3f0d0686-5331-42c4-832a-284212327af6",
   "metadata": {},
   "outputs": [
    {
     "data": {
      "text/plain": [
       "[<matplotlib.lines.Line2D at 0x13a48c67fe0>]"
      ]
     },
     "execution_count": 67,
     "metadata": {},
     "output_type": "execute_result"
    },
    {
     "data": {
      "image/png": "[encoded data removed]",
      "text/plain": [
       "<Figure size 1000x600 with 1 Axes>"
      ]
     },
     "metadata": {},
     "output_type": "display_data"
    }
   ],
   "source": [
    "plt.figure(figsize=(10,6))\n",
    "plt.plot(forecast_df['Date'],forecast_df['Forecasted_Cases'])"
   ]
  }
 ],
 "metadata": {
  "kernelspec": {
   "display_name": "Python 3 (ipykernel)",
   "language": "python",
   "name": "python3"
  },
  "language_info": {
   "codemirror_mode": {
    "name": "ipython",
    "version": 3
   },
   "file_extension": ".py",
   "mimetype": "text/x-python",
   "name": "python",
   "nbconvert_exporter": "python",
   "pygments_lexer": "ipython3",
   "version": "3.12.0"
  }
 },
 "nbformat": 4,
 "nbformat_minor": 5
}
